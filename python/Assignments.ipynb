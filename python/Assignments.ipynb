{
 "cells": [
  {
   "cell_type": "code",
   "execution_count": 10,
   "metadata": {},
   "outputs": [],
   "source": [
    "from dtree import *\n",
    "from monkdata import *\n",
    "import drawtree_qt5 as dt\n",
    "import matplotlib.pyplot as plt\n",
    "import numpy as np\n",
    "import pandas as pd\n",
    "import random\n",
    "from IPython.display import display, HTML\n",
    "\n",
    "plt.style.use('ggplot')"
   ]
  },
  {
   "cell_type": "code",
   "execution_count": 3,
   "metadata": {},
   "outputs": [],
   "source": [
    "monk_datasets = [monk1, monk2, monk3]\n",
    "monk_test_datasets = [monk1test, monk2test, monk3test]\n",
    "monk_dataset_names = ['Monk1', 'Monk2', 'Monk3']\n",
    "\n",
    "def partition(data, fraction):\n",
    "    ldata = list(data)\n",
    "    random.shuffle(ldata)\n",
    "    breakPoint = int(len(ldata) * fraction)\n",
    "    return ldata[:breakPoint], ldata[breakPoint:]"
   ]
  },
  {
   "attachments": {},
   "cell_type": "markdown",
   "metadata": {},
   "source": [
    "### Assignment 0"
   ]
  },
  {
   "attachments": {},
   "cell_type": "markdown",
   "metadata": {},
   "source": [
    "We believe that the most difficult dataset for the decision tree to learn is Monk2. The reason for this is that Monk2 is the only dataset among the Monk datasets that information about all attributes in order to do a correct classification."
   ]
  },
  {
   "attachments": {},
   "cell_type": "markdown",
   "metadata": {},
   "source": [
    "### Assignment 1"
   ]
  },
  {
   "cell_type": "code",
   "execution_count": 14,
   "metadata": {},
   "outputs": [
    {
     "data": {
      "text/html": [
       "<div>\n",
       "<style scoped>\n",
       "    .dataframe tbody tr th:only-of-type {\n",
       "        vertical-align: middle;\n",
       "    }\n",
       "\n",
       "    .dataframe tbody tr th {\n",
       "        vertical-align: top;\n",
       "    }\n",
       "\n",
       "    .dataframe thead th {\n",
       "        text-align: right;\n",
       "    }\n",
       "</style>\n",
       "<table border=\"1\" class=\"dataframe\">\n",
       "  <thead>\n",
       "    <tr style=\"text-align: right;\">\n",
       "      <th></th>\n",
       "      <th>Entropy</th>\n",
       "    </tr>\n",
       "  </thead>\n",
       "  <tbody>\n",
       "    <tr>\n",
       "      <th>Monk1</th>\n",
       "      <td>1.000000</td>\n",
       "    </tr>\n",
       "    <tr>\n",
       "      <th>Monk2</th>\n",
       "      <td>0.957117</td>\n",
       "    </tr>\n",
       "    <tr>\n",
       "      <th>Monk3</th>\n",
       "      <td>0.999806</td>\n",
       "    </tr>\n",
       "  </tbody>\n",
       "</table>\n",
       "</div>"
      ],
      "text/plain": [
       "        Entropy\n",
       "Monk1  1.000000\n",
       "Monk2  0.957117\n",
       "Monk3  0.999806"
      ]
     },
     "execution_count": 14,
     "metadata": {},
     "output_type": "execute_result"
    }
   ],
   "source": [
    "entropies = []\n",
    "for ds in monk_datasets:\n",
    "    entropies.append(entropy(ds))\n",
    "\n",
    "entropies_df = pd.DataFrame(entropies)\n",
    "entropies_df.columns = ['Entropy']\n",
    "entropies_df.index = monk_dataset_names\n",
    "\n",
    "entropies_df"
   ]
  },
  {
   "attachments": {},
   "cell_type": "markdown",
   "metadata": {},
   "source": [
    "### Assignment 2"
   ]
  },
  {
   "attachments": {},
   "cell_type": "markdown",
   "metadata": {},
   "source": [
    "Entropy can be interpreted as the average amount of information in a random variable. It can be interpreted as the number of bits of information in an outcome.\n",
    "\n",
    "The entropy is at the maximum when the random variable is uniformly distributed, and smaller if it is not uniform.\n",
    "\n",
    "Since the outcome in the Monk classification is binary, and the entropy of Monk1 is 1, we know that it is uniformly distributed, while Monk2 and Monk3 are not."
   ]
  },
  {
   "cell_type": "code",
   "execution_count": null,
   "metadata": {},
   "outputs": [
    {
     "data": {
      "image/png": "[encoded data removed]",
      "text/plain": [
       "<Figure size 432x288 with 1 Axes>"
      ]
     },
     "metadata": {},
     "output_type": "display_data"
    }
   ],
   "source": [
    "heads_prob = np.arange(0.05, 1.0, 0.05)\n",
    "entropy = -heads_prob * np.log2(heads_prob) - (1 - heads_prob) * np.log2(1 - heads_prob)\n",
    "\n",
    "plt.plot(heads_prob, entropy)\n",
    "plt.grid()\n",
    "plt.xlabel('Probability of heads')\n",
    "plt.ylabel('Entropy')\n",
    "plt.title('Entropy of skewed coin')\n",
    "plt.show()"
   ]
  },
  {
   "attachments": {},
   "cell_type": "markdown",
   "metadata": {},
   "source": [
    "### Assignment 3"
   ]
  },
  {
   "cell_type": "code",
   "execution_count": null,
   "metadata": {},
   "outputs": [
    {
     "data": {
      "text/html": [
       "<div>\n",
       "<style scoped>\n",
       "    .dataframe tbody tr th:only-of-type {\n",
       "        vertical-align: middle;\n",
       "    }\n",
       "\n",
       "    .dataframe tbody tr th {\n",
       "        vertical-align: top;\n",
       "    }\n",
       "\n",
       "    .dataframe thead th {\n",
       "        text-align: right;\n",
       "    }\n",
       "</style>\n",
       "<table border=\"1\" class=\"dataframe\">\n",
       "  <thead>\n",
       "    <tr style=\"text-align: right;\">\n",
       "      <th></th>\n",
       "      <th>a1</th>\n",
       "      <th>a2</th>\n",
       "      <th>a3</th>\n",
       "      <th>a4</th>\n",
       "      <th>a5</th>\n",
       "      <th>a6</th>\n",
       "    </tr>\n",
       "  </thead>\n",
       "  <tbody>\n",
       "    <tr>\n",
       "      <th>Monk1</th>\n",
       "      <td>0.075273</td>\n",
       "      <td>0.005838</td>\n",
       "      <td>0.004708</td>\n",
       "      <td>0.026312</td>\n",
       "      <td>0.287031</td>\n",
       "      <td>0.000758</td>\n",
       "    </tr>\n",
       "    <tr>\n",
       "      <th>Monk2</th>\n",
       "      <td>0.003756</td>\n",
       "      <td>0.002458</td>\n",
       "      <td>0.001056</td>\n",
       "      <td>0.015664</td>\n",
       "      <td>0.017277</td>\n",
       "      <td>0.006248</td>\n",
       "    </tr>\n",
       "    <tr>\n",
       "      <th>Monk3</th>\n",
       "      <td>0.007121</td>\n",
       "      <td>0.293736</td>\n",
       "      <td>0.000831</td>\n",
       "      <td>0.002892</td>\n",
       "      <td>0.255912</td>\n",
       "      <td>0.007077</td>\n",
       "    </tr>\n",
       "  </tbody>\n",
       "</table>\n",
       "</div>"
      ],
      "text/plain": [
       "             a1        a2        a3        a4        a5        a6\n",
       "Monk1  0.075273  0.005838  0.004708  0.026312  0.287031  0.000758\n",
       "Monk2  0.003756  0.002458  0.001056  0.015664  0.017277  0.006248\n",
       "Monk3  0.007121  0.293736  0.000831  0.002892  0.255912  0.007077"
      ]
     },
     "execution_count": 63,
     "metadata": {},
     "output_type": "execute_result"
    }
   ],
   "source": [
    "avg_gains = np.zeros((3, 6))\n",
    "\n",
    "for i, ds in enumerate(monk_datasets):\n",
    "    for j, attribute in enumerate(attributes):\n",
    "        avg_gains[i, j] = averageGain(ds, attribute)\n",
    "\n",
    "avg_gains_df = pd.DataFrame(avg_gains)\n",
    "avg_gains_df.columns = ['a1', 'a2', 'a3', 'a4', 'a5', 'a6']\n",
    "avg_gains_df.index = monk_dataset_names\n",
    "\n",
    "avg_gains_df"
   ]
  },
  {
   "attachments": {},
   "cell_type": "markdown",
   "metadata": {},
   "source": [
    "### Assignment 4"
   ]
  },
  {
   "attachments": {},
   "cell_type": "markdown",
   "metadata": {},
   "source": [
    "To maximize the information gain the entropy of the subsets after the split need to be minimized, i.e. the subsets need to have zero entropy. This occurs when the samples in each subset only have labels corresponding to a single class.\n",
    "\n",
    "To obtain the best possible classification, we want to minimize the entropy in the subsets, since this means that the uncertainty is low within the subsets. Therefore, in each step, we want to select the split that reduces the entropy the most."
   ]
  },
  {
   "cell_type": "code",
   "execution_count": null,
   "metadata": {},
   "outputs": [
    {
     "name": "stdout",
     "output_type": "stream",
     "text": [
      "0\n",
      "3\n",
      "5\n",
      "0\n"
     ]
    },
    {
     "data": {
      "text/html": [
       "<div>\n",
       "<style scoped>\n",
       "    .dataframe tbody tr th:only-of-type {\n",
       "        vertical-align: middle;\n",
       "    }\n",
       "\n",
       "    .dataframe tbody tr th {\n",
       "        vertical-align: top;\n",
       "    }\n",
       "\n",
       "    .dataframe thead th {\n",
       "        text-align: right;\n",
       "    }\n",
       "</style>\n",
       "<table border=\"1\" class=\"dataframe\">\n",
       "  <thead>\n",
       "    <tr style=\"text-align: right;\">\n",
       "      <th></th>\n",
       "      <th>1</th>\n",
       "      <th>2</th>\n",
       "      <th>3</th>\n",
       "      <th>4</th>\n",
       "      <th>5</th>\n",
       "      <th>6</th>\n",
       "    </tr>\n",
       "  </thead>\n",
       "  <tbody>\n",
       "    <tr>\n",
       "      <th>Split 1</th>\n",
       "      <td>0.000000</td>\n",
       "      <td>0.000000</td>\n",
       "      <td>0.000000</td>\n",
       "      <td>0.000000</td>\n",
       "      <td>0.0</td>\n",
       "      <td>0.000000</td>\n",
       "    </tr>\n",
       "    <tr>\n",
       "      <th>Split 2</th>\n",
       "      <td>0.040217</td>\n",
       "      <td>0.015063</td>\n",
       "      <td>0.037273</td>\n",
       "      <td>0.048892</td>\n",
       "      <td>0.0</td>\n",
       "      <td>0.025807</td>\n",
       "    </tr>\n",
       "    <tr>\n",
       "      <th>Split 3</th>\n",
       "      <td>0.033055</td>\n",
       "      <td>0.002197</td>\n",
       "      <td>0.017982</td>\n",
       "      <td>0.019123</td>\n",
       "      <td>0.0</td>\n",
       "      <td>0.045109</td>\n",
       "    </tr>\n",
       "    <tr>\n",
       "      <th>Split 4</th>\n",
       "      <td>0.206291</td>\n",
       "      <td>0.033898</td>\n",
       "      <td>0.025906</td>\n",
       "      <td>0.075933</td>\n",
       "      <td>0.0</td>\n",
       "      <td>0.003324</td>\n",
       "    </tr>\n",
       "  </tbody>\n",
       "</table>\n",
       "</div>"
      ],
      "text/plain": [
       "                1         2         3         4    5         6\n",
       "Split 1  0.000000  0.000000  0.000000  0.000000  0.0  0.000000\n",
       "Split 2  0.040217  0.015063  0.037273  0.048892  0.0  0.025807\n",
       "Split 3  0.033055  0.002197  0.017982  0.019123  0.0  0.045109\n",
       "Split 4  0.206291  0.033898  0.025906  0.075933  0.0  0.003324"
      ]
     },
     "execution_count": 64,
     "metadata": {},
     "output_type": "execute_result"
    }
   ],
   "source": [
    "split_attribute_idx = np.argmax(avg_gains[0, :])\n",
    "avg_gains_2 = np.zeros((4, 6)) # information gains summarized in second split step\n",
    "tree_array = [] # nested array keeping track of tree splits\n",
    "\n",
    "for split_value in range(1, 5):\n",
    "    selected_split = select(monk1, attributes[split_attribute_idx], split_value)\n",
    "    \n",
    "\n",
    "    for j, attribute in enumerate(attributes):\n",
    "        avg_gains_2[split_value-1, j] = averageGain(selected_split, attribute)\n",
    "\n",
    "    # Split\n",
    "    tree_array.append([])\n",
    "    split_attribute_idx_level_2 = np.argmax(avg_gains_2[split_value-1])\n",
    "    print(split_attribute_idx_level_2)\n",
    "\n",
    "avg_gains_2_df = pd.DataFrame(avg_gains_2)\n",
    "\n",
    "avg_gains_2_df.index = [f\"Split {i}\" for i in range(1, 5)]\n",
    "avg_gains_2_df.columns = [i+1 for i in range(6)]\n",
    "\n",
    "avg_gains_2_df"
   ]
  },
  {
   "cell_type": "code",
   "execution_count": null,
   "metadata": {},
   "outputs": [],
   "source": [
    "#limited_tree = buildTree(monk1, attributes, maxdepth=2)\n",
    "#dt.drawTree(limited_tree)"
   ]
  },
  {
   "attachments": {},
   "cell_type": "markdown",
   "metadata": {},
   "source": [
    "![Alt text](../tree_sc.png \"a title\")"
   ]
  },
  {
   "attachments": {},
   "cell_type": "markdown",
   "metadata": {},
   "source": [
    "### Assignment 5"
   ]
  },
  {
   "cell_type": "code",
   "execution_count": null,
   "metadata": {},
   "outputs": [
    {
     "data": {
      "text/html": [
       "<div>\n",
       "<style scoped>\n",
       "    .dataframe tbody tr th:only-of-type {\n",
       "        vertical-align: middle;\n",
       "    }\n",
       "\n",
       "    .dataframe tbody tr th {\n",
       "        vertical-align: top;\n",
       "    }\n",
       "\n",
       "    .dataframe thead th {\n",
       "        text-align: right;\n",
       "    }\n",
       "</style>\n",
       "<table border=\"1\" class=\"dataframe\">\n",
       "  <thead>\n",
       "    <tr style=\"text-align: right;\">\n",
       "      <th></th>\n",
       "      <th>Train error</th>\n",
       "      <th>Test error</th>\n",
       "    </tr>\n",
       "  </thead>\n",
       "  <tbody>\n",
       "    <tr>\n",
       "      <th>Monk1</th>\n",
       "      <td>0.0</td>\n",
       "      <td>0.171296</td>\n",
       "    </tr>\n",
       "    <tr>\n",
       "      <th>Monk2</th>\n",
       "      <td>0.0</td>\n",
       "      <td>0.307870</td>\n",
       "    </tr>\n",
       "    <tr>\n",
       "      <th>Monk3</th>\n",
       "      <td>0.0</td>\n",
       "      <td>0.055556</td>\n",
       "    </tr>\n",
       "  </tbody>\n",
       "</table>\n",
       "</div>"
      ],
      "text/plain": [
       "       Train error  Test error\n",
       "Monk1          0.0    0.171296\n",
       "Monk2          0.0    0.307870\n",
       "Monk3          0.0    0.055556"
      ]
     },
     "execution_count": 66,
     "metadata": {},
     "output_type": "execute_result"
    }
   ],
   "source": [
    "errors = np.zeros((3,2))\n",
    "\n",
    "for i, (train_ds, test_ds) in enumerate(zip(monk_datasets, monk_test_datasets)):\n",
    "    tree = buildTree(train_ds, attributes)\n",
    "\n",
    "    errors[i, 0] = 1 - check(tree, train_ds)\n",
    "    errors[i, 1] = 1 - check(tree, test_ds)\n",
    "\n",
    "errors_df = pd.DataFrame(errors)\n",
    "errors_df.columns = ['Train error', 'Test error']\n",
    "errors_df.index = monk_dataset_names\n",
    "\n",
    "errors_df"
   ]
  },
  {
   "attachments": {},
   "cell_type": "markdown",
   "metadata": {},
   "source": [
    "On all the datasets we are getting 0% error on the training data. This is because we have not limited the tree depth which means the trees will continue to grow until perfect classification is achieved on the training data. This, of course, leads to overfitting issues which is apparent because of the low bias and high variance.\n",
    "\n",
    "The largest test error occurs on 'Monk2', indicating that it might be the most difficult dataset to learn, just like we assumed in assignment 0."
   ]
  },
  {
   "attachments": {},
   "cell_type": "markdown",
   "metadata": {},
   "source": [
    "### Assignment 6"
   ]
  },
  {
   "cell_type": "code",
   "execution_count": null,
   "metadata": {},
   "outputs": [
    {
     "data": {
      "text/html": [
       "<div>\n",
       "<style scoped>\n",
       "    .dataframe tbody tr th:only-of-type {\n",
       "        vertical-align: middle;\n",
       "    }\n",
       "\n",
       "    .dataframe tbody tr th {\n",
       "        vertical-align: top;\n",
       "    }\n",
       "\n",
       "    .dataframe thead th {\n",
       "        text-align: right;\n",
       "    }\n",
       "</style>\n",
       "<table border=\"1\" class=\"dataframe\">\n",
       "  <thead>\n",
       "    <tr style=\"text-align: right;\">\n",
       "      <th></th>\n",
       "      <th>Before pruning</th>\n",
       "      <th>After pruning</th>\n",
       "    </tr>\n",
       "  </thead>\n",
       "  <tbody>\n",
       "    <tr>\n",
       "      <th>Monk1</th>\n",
       "      <td>0.180556</td>\n",
       "      <td>0.222222</td>\n",
       "    </tr>\n",
       "    <tr>\n",
       "      <th>Monk2</th>\n",
       "      <td>0.372685</td>\n",
       "      <td>0.351852</td>\n",
       "    </tr>\n",
       "    <tr>\n",
       "      <th>Monk3</th>\n",
       "      <td>0.013889</td>\n",
       "      <td>0.027778</td>\n",
       "    </tr>\n",
       "  </tbody>\n",
       "</table>\n",
       "</div>"
      ],
      "text/plain": [
       "       Before pruning  After pruning\n",
       "Monk1        0.180556       0.222222\n",
       "Monk2        0.372685       0.351852\n",
       "Monk3        0.013889       0.027778"
      ]
     },
     "execution_count": 67,
     "metadata": {},
     "output_type": "execute_result"
    }
   ],
   "source": [
    "def prune_tree(tree, val):\n",
    "    prev_accuracy = check(tree, val)\n",
    "\n",
    "    while True:\n",
    "        alternatives = allPruned(tree)\n",
    "\n",
    "        best_alternative = None\n",
    "        best_accuracy = 0\n",
    "\n",
    "        for alternative in alternatives:\n",
    "            alt_accuracy = check(alternative, val)\n",
    "            if alt_accuracy > best_accuracy:\n",
    "                best_alternative = alternative\n",
    "                best_accuracy = alt_accuracy\n",
    "\n",
    "        if best_alternative == None or best_accuracy < prev_accuracy:\n",
    "            break\n",
    "        \n",
    "        prev_accuracy = best_accuracy\n",
    "        tree = best_alternative\n",
    "    return tree\n",
    "\n",
    "\n",
    "def prune_error_rates(dataset_indexes, fraction):\n",
    "    '''\n",
    "    For each of the datasets inputed, calculate test set error rate with and without pruning,\n",
    "    for some fraction of the training data for training/validation\n",
    "    '''\n",
    "     # For each dataset, create a row with error rate on test set, with and without pruning\n",
    "    errors = np.zeros((len(dataset_indexes), 2))\n",
    "    # Select the correct datasets\n",
    "    datasets = [monk_datasets[i] for i in dataset_indexes] \n",
    "    test_datasets = [monk_test_datasets[i] for i in dataset_indexes]\n",
    "    \n",
    "    # For each of the selected dataset, compute and save the error rate, with and without pruning\n",
    "    for i, (train_ds, test_ds) in enumerate(zip(datasets, test_datasets)):\n",
    "        monk_train, monk_validate = partition(train_ds, fraction)\n",
    "        tree = buildTree(monk_train, attributes)\n",
    "        errors[i, 0] = 1 - check(tree, test_ds)\n",
    "        # Commenting out code under this doesnt change result???\n",
    "        pruned_tree = prune_tree(tree, monk_validate)\n",
    "        errors[i, 1] = 1 - check(pruned_tree, test_ds)\n",
    "\n",
    "    # Return error matrix\n",
    "    return errors\n",
    "\n",
    "\n",
    "errors = prune_error_rates([0, 1, 2], 0.6)\n",
    "\n",
    "errors_df = pd.DataFrame(errors)\n",
    "errors_df.columns = ['Before pruning', 'After pruning']\n",
    "errors_df.index = monk_dataset_names\n",
    "\n",
    "errors_df"
   ]
  },
  {
   "attachments": {},
   "cell_type": "markdown",
   "metadata": {},
   "source": [
    "As we discussed earlier, without pruning, this model is prone to overfitting. It makes a very complex model that achieves 100% accuracy on training data, but bad accuracy on the test data. In other words, the bias is low and the variance is high.\n",
    "\n",
    "With pruning, the complexity of the model is decreased. This improves test data performance by reducing overfitting to the test data. The bias increases slightly, but the variance is decreased."
   ]
  },
  {
   "attachments": {},
   "cell_type": "markdown",
   "metadata": {},
   "source": [
    "### Assignment 7"
   ]
  },
  {
   "cell_type": "code",
   "execution_count": null,
   "metadata": {},
   "outputs": [],
   "source": [
    "# Fractions to include\n",
    "fractions = [0.1, 0.2, 0.3, 0.4, 0.5, 0.6, 0.7, 0.8, 0.9]\n",
    "\n",
    "# Number of calculations per fraction\n",
    "N = 100\n",
    "\n",
    "errors = np.zeros((2, len(fractions)))\n",
    "std = np.zeros((2, len(fractions)))\n",
    "\n",
    "for i, fraction in enumerate(fractions):\n",
    "  # Placeholder for result, before average is calculated\n",
    "  error_values = []\n",
    "\n",
    "  for _ in range(N):\n",
    "    inst_err = prune_error_rates([0, 2], fraction)\n",
    "    error_values.append(inst_err[:, [1]])\n",
    "\n",
    "  error_values = np.squeeze(np.array(error_values))\n",
    "  error_means = np.mean(error_values, axis=0)\n",
    "  error_std = np.std(error_values, axis=0)\n",
    "\n",
    "  # Add to list\n",
    "  errors[:, i] = error_means\n",
    "  std[:, i] = error_std\n"
   ]
  },
  {
   "cell_type": "code",
   "execution_count": null,
   "metadata": {},
   "outputs": [
    {
     "data": {
      "text/plain": [
       "<function matplotlib.pyplot.show(close=None, block=None)>"
      ]
     },
     "execution_count": 69,
     "metadata": {},
     "output_type": "execute_result"
    },
    {
     "data": {
      "image/png": "[encoded data removed]",
      "text/plain": [
       "<Figure size 432x288 with 1 Axes>"
      ]
     },
     "metadata": {},
     "output_type": "display_data"
    }
   ],
   "source": [
    "plt.scatter(fractions, errors[0, :], label=\"Monk1\")\n",
    "plt.scatter(fractions, errors[1, :], label='Monk2')\n",
    "\n",
    "plt.errorbar(fractions, errors[0, :], std[0, :], linestyle=\"--\")\n",
    "plt.errorbar(fractions, errors[1, :], std[1, :], linestyle=\"--\",)\n",
    "plt.legend()\n",
    "plt.grid()\n",
    "plt.tight_layout()\n",
    "\n",
    "plt.xlabel(\"Fraction of training data\")\n",
    "plt.ylabel(\"Error on test set\")\n",
    "\n",
    "plt.show"
   ]
  }
 ],
 "metadata": {
  "kernelspec": {
   "display_name": "base",
   "language": "python",
   "name": "python3"
  },
  "language_info": {
   "codemirror_mode": {
    "name": "ipython",
    "version": 3
   },
   "file_extension": ".py",
   "mimetype": "text/x-python",
   "name": "python",
   "nbconvert_exporter": "python",
   "pygments_lexer": "ipython3",
   "version": "3.8.8"
  },
  "orig_nbformat": 4,
  "vscode": {
   "interpreter": {
    "hash": "2d692fe9405e4b92159365ff4fdf361297768db5a718f8d6403619c1bbda7cad"
   }
  }
 },
 "nbformat": 4,
 "nbformat_minor": 2
}
