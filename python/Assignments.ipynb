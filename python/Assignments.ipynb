{
 "cells": [
  {
   "cell_type": "code",
   "execution_count": 73,
   "metadata": {},
   "outputs": [],
   "source": [
    "from dtree import *\n",
    "from monkdata import *\n",
    "import matplotlib.pyplot as plt\n",
    "import numpy as np\n",
    "import pandas as pd\n",
    "import random\n",
    "import copy"
   ]
  },
  {
   "cell_type": "code",
   "execution_count": 68,
   "metadata": {},
   "outputs": [],
   "source": [
    "monk_datasets = [monk1, monk2, monk3]\n",
    "monk_test_datasets = [monk1test, monk2test, monk3test]\n",
    "monk_dataset_names = ['Monk1', 'Monk2', 'Monk3']\n",
    "\n",
    "def partition(data, fraction):\n",
    "    ldata = list(data)\n",
    "    random.shuffle(ldata)\n",
    "    breakPoint = int(len(ldata) * fraction)\n",
    "    return ldata[:breakPoint], ldata[breakPoint:]"
   ]
  },
  {
   "attachments": {},
   "cell_type": "markdown",
   "metadata": {},
   "source": [
    "### Assignment 0"
   ]
  },
  {
   "attachments": {},
   "cell_type": "markdown",
   "metadata": {},
   "source": [
    "### Assignment 1"
   ]
  },
  {
   "cell_type": "code",
   "execution_count": 53,
   "metadata": {},
   "outputs": [
    {
     "data": {
      "text/html": [
       "<div>\n",
       "<style scoped>\n",
       "    .dataframe tbody tr th:only-of-type {\n",
       "        vertical-align: middle;\n",
       "    }\n",
       "\n",
       "    .dataframe tbody tr th {\n",
       "        vertical-align: top;\n",
       "    }\n",
       "\n",
       "    .dataframe thead th {\n",
       "        text-align: right;\n",
       "    }\n",
       "</style>\n",
       "<table border=\"1\" class=\"dataframe\">\n",
       "  <thead>\n",
       "    <tr style=\"text-align: right;\">\n",
       "      <th></th>\n",
       "      <th>Entropy</th>\n",
       "    </tr>\n",
       "  </thead>\n",
       "  <tbody>\n",
       "    <tr>\n",
       "      <th>Monk1</th>\n",
       "      <td>1.000000</td>\n",
       "    </tr>\n",
       "    <tr>\n",
       "      <th>Monk2</th>\n",
       "      <td>0.957117</td>\n",
       "    </tr>\n",
       "    <tr>\n",
       "      <th>Monk3</th>\n",
       "      <td>0.999806</td>\n",
       "    </tr>\n",
       "  </tbody>\n",
       "</table>\n",
       "</div>"
      ],
      "text/plain": [
       "        Entropy\n",
       "Monk1  1.000000\n",
       "Monk2  0.957117\n",
       "Monk3  0.999806"
      ]
     },
     "execution_count": 53,
     "metadata": {},
     "output_type": "execute_result"
    }
   ],
   "source": [
    "entropies = []\n",
    "for ds in monk_datasets:\n",
    "    entropies.append(entropy(ds))\n",
    "\n",
    "entropies_df = pd.DataFrame(entropies)\n",
    "entropies_df.columns = ['Entropy']\n",
    "entropies_df.index = monk_dataset_names\n",
    "\n",
    "entropies_df"
   ]
  },
  {
   "attachments": {},
   "cell_type": "markdown",
   "metadata": {},
   "source": [
    "### Assignment 2"
   ]
  },
  {
   "attachments": {},
   "cell_type": "markdown",
   "metadata": {},
   "source": [
    "Entropy can be interpreted as the average amount of information in a random variable. It can be interpreted as the number of bits of information in an outcome.\n",
    "\n",
    "The entropy is at the maximum when the random variable is uniformly distributed, and smaller if it is not uniform.\n",
    "\n",
    "Since the outcome in the Monk classification is binary, and the entropy of Monk1 is 1, we know that it is uniformly distributed, while Monk2 and Monk3 are not."
   ]
  },
  {
   "attachments": {},
   "cell_type": "markdown",
   "metadata": {},
   "source": [
    "### Assignment 3"
   ]
  },
  {
   "cell_type": "code",
   "execution_count": 54,
   "metadata": {},
   "outputs": [
    {
     "data": {
      "text/html": [
       "<div>\n",
       "<style scoped>\n",
       "    .dataframe tbody tr th:only-of-type {\n",
       "        vertical-align: middle;\n",
       "    }\n",
       "\n",
       "    .dataframe tbody tr th {\n",
       "        vertical-align: top;\n",
       "    }\n",
       "\n",
       "    .dataframe thead th {\n",
       "        text-align: right;\n",
       "    }\n",
       "</style>\n",
       "<table border=\"1\" class=\"dataframe\">\n",
       "  <thead>\n",
       "    <tr style=\"text-align: right;\">\n",
       "      <th></th>\n",
       "      <th>a1</th>\n",
       "      <th>a2</th>\n",
       "      <th>a3</th>\n",
       "      <th>a4</th>\n",
       "      <th>a5</th>\n",
       "      <th>a6</th>\n",
       "    </tr>\n",
       "  </thead>\n",
       "  <tbody>\n",
       "    <tr>\n",
       "      <th>Monk1</th>\n",
       "      <td>0.075273</td>\n",
       "      <td>0.005838</td>\n",
       "      <td>0.004708</td>\n",
       "      <td>0.026312</td>\n",
       "      <td>0.287031</td>\n",
       "      <td>0.000758</td>\n",
       "    </tr>\n",
       "    <tr>\n",
       "      <th>Monk2</th>\n",
       "      <td>0.003756</td>\n",
       "      <td>0.002458</td>\n",
       "      <td>0.001056</td>\n",
       "      <td>0.015664</td>\n",
       "      <td>0.017277</td>\n",
       "      <td>0.006248</td>\n",
       "    </tr>\n",
       "    <tr>\n",
       "      <th>Monk3</th>\n",
       "      <td>0.007121</td>\n",
       "      <td>0.293736</td>\n",
       "      <td>0.000831</td>\n",
       "      <td>0.002892</td>\n",
       "      <td>0.255912</td>\n",
       "      <td>0.007077</td>\n",
       "    </tr>\n",
       "  </tbody>\n",
       "</table>\n",
       "</div>"
      ],
      "text/plain": [
       "             a1        a2        a3        a4        a5        a6\n",
       "Monk1  0.075273  0.005838  0.004708  0.026312  0.287031  0.000758\n",
       "Monk2  0.003756  0.002458  0.001056  0.015664  0.017277  0.006248\n",
       "Monk3  0.007121  0.293736  0.000831  0.002892  0.255912  0.007077"
      ]
     },
     "execution_count": 54,
     "metadata": {},
     "output_type": "execute_result"
    }
   ],
   "source": [
    "avg_gains = np.zeros((3, 6))\n",
    "\n",
    "for i, ds in enumerate(monk_datasets):\n",
    "    for j, attribute in enumerate(attributes):\n",
    "        avg_gains[i, j] = averageGain(ds, attribute)\n",
    "\n",
    "avg_gains_df = pd.DataFrame(avg_gains)\n",
    "avg_gains_df.columns = ['a1', 'a2', 'a3', 'a4', 'a5', 'a6']\n",
    "avg_gains_df.index = monk_dataset_names\n",
    "\n",
    "avg_gains_df"
   ]
  },
  {
   "attachments": {},
   "cell_type": "markdown",
   "metadata": {},
   "source": [
    "### Assignment 4"
   ]
  },
  {
   "attachments": {},
   "cell_type": "markdown",
   "metadata": {},
   "source": [
    "To maximize the information gain the entropy of the subsets after the split need to be minimized, i.e. the subsets need to have zero entropy. This occurs when the samples in each subset only have labels corresponding to a single class.\n",
    "\n",
    "To obtain the best possible classification, we want to minimize the entropy in the subsets, since this means that the uncertainty is low within the subsets. Therefore, in each step, we want to select the split that reduces the entropy the most."
   ]
  },
  {
   "cell_type": "code",
   "execution_count": null,
   "metadata": {},
   "outputs": [],
   "source": [
    "split_attribute_idx = np.argmax(avg_gains[0, :])\n",
    "avg_gains_2 = np.zeros((4, 6)) # information gains summarized in second split step\n",
    "tree_array = [] # nested array keeping track of tree splits\n",
    "\n",
    "for split_value in range(1, 5):\n",
    "    selected_split = select(monk1, attributes[split_attribute_idx], split_value)\n",
    "    \n",
    "\n",
    "    for j, attribute in enumerate(attributes):\n",
    "        avg_gains_2[split_value-1, j] = averageGain(selected_split, attribute)\n",
    "\n",
    "    # Split\n",
    "    tree_array.append([])\n",
    "    split_attribute_idx_level_2 = np.argmax(avg_gains_2[split_value-1])\n",
    "    print(split_attribute_idx_level_2)\n",
    "\n",
    "avg_gains_2_df = pd.DataFrame(avg_gains_2)\n",
    "\n",
    "avg_gains_2_df.index = [f\"Split {i}\" for i in range(1, 5)]\n",
    "avg_gains_2_df.columns = [i+1 for i in range(6)]\n",
    "\n",
    "avg_gains_2_df\n"
   ]
  },
  {
   "attachments": {},
   "cell_type": "markdown",
   "metadata": {},
   "source": [
    "### Assignment 5"
   ]
  },
  {
   "cell_type": "code",
   "execution_count": 74,
   "metadata": {},
   "outputs": [
    {
     "data": {
      "text/html": [
       "<div>\n",
       "<style scoped>\n",
       "    .dataframe tbody tr th:only-of-type {\n",
       "        vertical-align: middle;\n",
       "    }\n",
       "\n",
       "    .dataframe tbody tr th {\n",
       "        vertical-align: top;\n",
       "    }\n",
       "\n",
       "    .dataframe thead th {\n",
       "        text-align: right;\n",
       "    }\n",
       "</style>\n",
       "<table border=\"1\" class=\"dataframe\">\n",
       "  <thead>\n",
       "    <tr style=\"text-align: right;\">\n",
       "      <th></th>\n",
       "      <th>Train error</th>\n",
       "      <th>Test error</th>\n",
       "    </tr>\n",
       "  </thead>\n",
       "  <tbody>\n",
       "    <tr>\n",
       "      <th>Monk1</th>\n",
       "      <td>0.0</td>\n",
       "      <td>0.171296</td>\n",
       "    </tr>\n",
       "    <tr>\n",
       "      <th>Monk2</th>\n",
       "      <td>0.0</td>\n",
       "      <td>0.307870</td>\n",
       "    </tr>\n",
       "    <tr>\n",
       "      <th>Monk3</th>\n",
       "      <td>0.0</td>\n",
       "      <td>0.055556</td>\n",
       "    </tr>\n",
       "  </tbody>\n",
       "</table>\n",
       "</div>"
      ],
      "text/plain": [
       "       Train error  Test error\n",
       "Monk1          0.0    0.171296\n",
       "Monk2          0.0    0.307870\n",
       "Monk3          0.0    0.055556"
      ]
     },
     "execution_count": 74,
     "metadata": {},
     "output_type": "execute_result"
    }
   ],
   "source": [
    "errors = np.zeros((3,2))\n",
    "\n",
    "for i, (train_ds, test_ds) in enumerate(zip(monk_datasets, monk_test_datasets)):\n",
    "    tree = buildTree(train_ds, attributes)\n",
    "\n",
    "    errors[i, 0] = 1 - check(tree, train_ds)\n",
    "    errors[i, 1] = 1 - check(tree, test_ds)\n",
    "\n",
    "errors_df = pd.DataFrame(errors)\n",
    "errors_df.columns = ['Train error', 'Test error']\n",
    "errors_df.index = monk_dataset_names\n",
    "\n",
    "errors_df"
   ]
  },
  {
   "attachments": {},
   "cell_type": "markdown",
   "metadata": {},
   "source": [
    "On all the datasets we are getting 0% error on the training data. This is because we have not limited the tree depth which means the trees will continue to grow until perfect classification is achieved on the training data. This, of course, leads to overfitting issues which is apparent because of the low bias and high variance.\n",
    "\n",
    "TODO: Assumptions about assignment 0 correct??"
   ]
  },
  {
   "attachments": {},
   "cell_type": "markdown",
   "metadata": {},
   "source": [
    "### Assignment 6"
   ]
  },
  {
   "cell_type": "code",
   "execution_count": 77,
   "metadata": {},
   "outputs": [
    {
     "ename": "KeyError",
     "evalue": "A5",
     "output_type": "error",
     "traceback": [
      "\u001b[1;31m---------------------------------------------------------------------------\u001b[0m",
      "\u001b[1;31mKeyError\u001b[0m                                  Traceback (most recent call last)",
      "\u001b[1;32m~\\AppData\\Local\\Temp\\ipykernel_18424\\3792893691.py\u001b[0m in \u001b[0;36m<module>\u001b[1;34m\u001b[0m\n\u001b[0;32m     26\u001b[0m     \u001b[1;32mreturn\u001b[0m \u001b[0mtree\u001b[0m\u001b[1;33m\u001b[0m\u001b[1;33m\u001b[0m\u001b[0m\n\u001b[0;32m     27\u001b[0m \u001b[1;33m\u001b[0m\u001b[0m\n\u001b[1;32m---> 28\u001b[1;33m \u001b[0mpruned_tree\u001b[0m \u001b[1;33m=\u001b[0m \u001b[0mprune_tree\u001b[0m\u001b[1;33m(\u001b[0m\u001b[0mtree\u001b[0m\u001b[1;33m,\u001b[0m \u001b[0mmonk1val\u001b[0m\u001b[1;33m)\u001b[0m\u001b[1;33m\u001b[0m\u001b[1;33m\u001b[0m\u001b[0m\n\u001b[0m",
      "\u001b[1;32m~\\AppData\\Local\\Temp\\ipykernel_18424\\3792893691.py\u001b[0m in \u001b[0;36mprune_tree\u001b[1;34m(tree, val)\u001b[0m\n\u001b[0;32m     13\u001b[0m \u001b[1;33m\u001b[0m\u001b[0m\n\u001b[0;32m     14\u001b[0m         \u001b[1;32mfor\u001b[0m \u001b[0malternative\u001b[0m \u001b[1;32min\u001b[0m \u001b[0malternatives\u001b[0m\u001b[1;33m:\u001b[0m\u001b[1;33m\u001b[0m\u001b[1;33m\u001b[0m\u001b[0m\n\u001b[1;32m---> 15\u001b[1;33m             \u001b[0malt_accuracy\u001b[0m \u001b[1;33m=\u001b[0m \u001b[0mcheck\u001b[0m\u001b[1;33m(\u001b[0m\u001b[0malternative\u001b[0m\u001b[1;33m,\u001b[0m \u001b[0mval\u001b[0m\u001b[1;33m)\u001b[0m\u001b[1;33m\u001b[0m\u001b[1;33m\u001b[0m\u001b[0m\n\u001b[0m\u001b[0;32m     16\u001b[0m             \u001b[1;32mif\u001b[0m \u001b[0malt_accuracy\u001b[0m \u001b[1;33m>\u001b[0m \u001b[0mbest_accuracy\u001b[0m\u001b[1;33m:\u001b[0m\u001b[1;33m\u001b[0m\u001b[1;33m\u001b[0m\u001b[0m\n\u001b[0;32m     17\u001b[0m                 \u001b[0mbest_alternative\u001b[0m \u001b[1;33m=\u001b[0m \u001b[0malternative\u001b[0m\u001b[1;33m\u001b[0m\u001b[1;33m\u001b[0m\u001b[0m\n",
      "\u001b[1;32mc:\\Users\\Erik\\Desktop\\Machine Learning\\dectrees\\python\\dtree.py\u001b[0m in \u001b[0;36mcheck\u001b[1;34m(tree, testdata)\u001b[0m\n\u001b[0;32m    117\u001b[0m     \u001b[0mcorrect\u001b[0m \u001b[1;33m=\u001b[0m \u001b[1;36m0\u001b[0m\u001b[1;33m\u001b[0m\u001b[1;33m\u001b[0m\u001b[0m\n\u001b[0;32m    118\u001b[0m     \u001b[1;32mfor\u001b[0m \u001b[0mx\u001b[0m \u001b[1;32min\u001b[0m \u001b[0mtestdata\u001b[0m\u001b[1;33m:\u001b[0m\u001b[1;33m\u001b[0m\u001b[1;33m\u001b[0m\u001b[0m\n\u001b[1;32m--> 119\u001b[1;33m         \u001b[1;32mif\u001b[0m \u001b[0mclassify\u001b[0m\u001b[1;33m(\u001b[0m\u001b[0mtree\u001b[0m\u001b[1;33m,\u001b[0m \u001b[0mx\u001b[0m\u001b[1;33m)\u001b[0m \u001b[1;33m==\u001b[0m \u001b[0mx\u001b[0m\u001b[1;33m.\u001b[0m\u001b[0mpositive\u001b[0m\u001b[1;33m:\u001b[0m\u001b[1;33m\u001b[0m\u001b[1;33m\u001b[0m\u001b[0m\n\u001b[0m\u001b[0;32m    120\u001b[0m             \u001b[0mcorrect\u001b[0m \u001b[1;33m+=\u001b[0m \u001b[1;36m1\u001b[0m\u001b[1;33m\u001b[0m\u001b[1;33m\u001b[0m\u001b[0m\n\u001b[0;32m    121\u001b[0m     \u001b[1;32mreturn\u001b[0m \u001b[0mfloat\u001b[0m\u001b[1;33m(\u001b[0m\u001b[0mcorrect\u001b[0m\u001b[1;33m)\u001b[0m\u001b[1;33m/\u001b[0m\u001b[0mlen\u001b[0m\u001b[1;33m(\u001b[0m\u001b[0mtestdata\u001b[0m\u001b[1;33m)\u001b[0m\u001b[1;33m\u001b[0m\u001b[1;33m\u001b[0m\u001b[0m\n",
      "\u001b[1;32mc:\\Users\\Erik\\Desktop\\Machine Learning\\dectrees\\python\\dtree.py\u001b[0m in \u001b[0;36mclassify\u001b[1;34m(tree, sample)\u001b[0m\n\u001b[0;32m    110\u001b[0m     \u001b[1;32mif\u001b[0m \u001b[0misinstance\u001b[0m\u001b[1;33m(\u001b[0m\u001b[0mtree\u001b[0m\u001b[1;33m,\u001b[0m \u001b[0mTreeLeaf\u001b[0m\u001b[1;33m)\u001b[0m\u001b[1;33m:\u001b[0m\u001b[1;33m\u001b[0m\u001b[1;33m\u001b[0m\u001b[0m\n\u001b[0;32m    111\u001b[0m         \u001b[1;32mreturn\u001b[0m \u001b[0mtree\u001b[0m\u001b[1;33m.\u001b[0m\u001b[0mcvalue\u001b[0m\u001b[1;33m\u001b[0m\u001b[1;33m\u001b[0m\u001b[0m\n\u001b[1;32m--> 112\u001b[1;33m     \u001b[1;32mreturn\u001b[0m \u001b[0mclassify\u001b[0m\u001b[1;33m(\u001b[0m\u001b[0mtree\u001b[0m\u001b[1;33m.\u001b[0m\u001b[0mbranches\u001b[0m\u001b[1;33m[\u001b[0m\u001b[0msample\u001b[0m\u001b[1;33m.\u001b[0m\u001b[0mattribute\u001b[0m\u001b[1;33m[\u001b[0m\u001b[0mtree\u001b[0m\u001b[1;33m.\u001b[0m\u001b[0mattribute\u001b[0m\u001b[1;33m]\u001b[0m\u001b[1;33m]\u001b[0m\u001b[1;33m,\u001b[0m \u001b[0msample\u001b[0m\u001b[1;33m)\u001b[0m\u001b[1;33m\u001b[0m\u001b[1;33m\u001b[0m\u001b[0m\n\u001b[0m\u001b[0;32m    113\u001b[0m \u001b[1;33m\u001b[0m\u001b[0m\n\u001b[0;32m    114\u001b[0m \u001b[1;33m\u001b[0m\u001b[0m\n",
      "\u001b[1;31mKeyError\u001b[0m: A5"
     ]
    }
   ],
   "source": [
    "monk1train, monk1val = partition(monk1, 0.6)\n",
    "tree = buildTree(monk1train, attributes)\n",
    "\n",
    "def prune_tree(tree, val):\n",
    "    prev_accuracy = check(tree, val)\n",
    "\n",
    "    tree = copy.deepcopy(tree)\n",
    "    while True:\n",
    "        alternatives = allPruned(tree)\n",
    "\n",
    "        best_alternative = None\n",
    "        best_accuracy = 0\n",
    "\n",
    "        for alternative in alternatives:\n",
    "            alt_accuracy = check(alternative, val)\n",
    "            if alt_accuracy > best_accuracy:\n",
    "                best_alternative = alternative\n",
    "                best_accuracy = alt_accuracy\n",
    "\n",
    "        if best_alternative == None or best_accuracy < prev_accuracy:\n",
    "            break\n",
    "        \n",
    "        prev_accuracy = best_accuracy\n",
    "        tree = best_alternative\n",
    "\n",
    "    return tree\n",
    "\n",
    "pruned_tree = prune_tree(tree, monk1val)\n"
   ]
  },
  {
   "cell_type": "code",
   "execution_count": null,
   "metadata": {},
   "outputs": [],
   "source": [
    "monk1train, monk1val = partition(monk1, 0.6)\n",
    "\n",
    "tree = buildTree(monk1train, attributes)\n",
    "prev_entropy = entropy(tree)\n",
    "\n",
    "while True:\n",
    "    alternatives = allPruned(tree)\n",
    "\n",
    "    best_alternative = None\n",
    "    best_entropy = 99999999999\n",
    "\n",
    "    for alternative in alternatives:\n",
    "        monk1train, monk1val = partition(monk1, 0.6)\n",
    "\n",
    "tree = buildTree(monk1train, attributes)\n",
    "prev_entropy = entropy(tree)\n",
    "\n",
    "while True:\n",
    "    alternatives = allPruned(tree)\n",
    "\n",
    "    best_alternative = None\n",
    "    best_entropy = 99999999999\n",
    "\n",
    "    for alternative in alternatives:\n",
    "        alt_entropy = entropy(alternative)\n",
    "        if alt_entropy < best_entropy:\n",
    "            best_alternative = alternative\n",
    "            best_entropy = alt_entropy\n",
    "    \n",
    "    if best_alternative == None or best_entropy > prev_entropy:\n",
    "        break\n"
   ]
  },
  {
   "attachments": {},
   "cell_type": "markdown",
   "metadata": {},
   "source": [
    "### Assignment 7"
   ]
  }
 ],
 "metadata": {
  "kernelspec": {
   "display_name": "base",
   "language": "python",
   "name": "python3"
  },
  "language_info": {
   "codemirror_mode": {
    "name": "ipython",
    "version": 3
   },
   "file_extension": ".py",
   "mimetype": "text/x-python",
   "name": "python",
   "nbconvert_exporter": "python",
   "pygments_lexer": "ipython3",
   "version": "3.9.13"
  },
  "orig_nbformat": 4,
  "vscode": {
   "interpreter": {
    "hash": "2d692fe9405e4b92159365ff4fdf361297768db5a718f8d6403619c1bbda7cad"
   }
  }
 },
 "nbformat": 4,
 "nbformat_minor": 2
}
